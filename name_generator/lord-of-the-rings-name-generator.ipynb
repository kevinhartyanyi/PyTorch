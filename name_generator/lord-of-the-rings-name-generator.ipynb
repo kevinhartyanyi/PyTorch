{
 "cells": [
  {
   "cell_type": "markdown",
   "metadata": {},
   "source": [
    "## We will create a recurrent neural network to generate new names based on the lord of the rings."
   ]
  },
  {
   "cell_type": "markdown",
   "metadata": {},
   "source": [
    "# Data Analysis and Preprocessing"
   ]
  },
  {
   "cell_type": "code",
   "execution_count": 1,
   "metadata": {
    "_cell_guid": "b1076dfc-b9ad-4769-8c92-a6c4dae69d19",
    "_uuid": "8f2839f25d086af736a60e9eeb907d3b93b6e0e5"
   },
   "outputs": [
    {
     "data": {
      "text/html": [
       "<div>\n",
       "<style scoped>\n",
       "    .dataframe tbody tr th:only-of-type {\n",
       "        vertical-align: middle;\n",
       "    }\n",
       "\n",
       "    .dataframe tbody tr th {\n",
       "        vertical-align: top;\n",
       "    }\n",
       "\n",
       "    .dataframe thead th {\n",
       "        text-align: right;\n",
       "    }\n",
       "</style>\n",
       "<table border=\"1\" class=\"dataframe\">\n",
       "  <thead>\n",
       "    <tr style=\"text-align: right;\">\n",
       "      <th></th>\n",
       "      <th>Name</th>\n",
       "      <th>Race</th>\n",
       "    </tr>\n",
       "  </thead>\n",
       "  <tbody>\n",
       "    <tr>\n",
       "      <th>0</th>\n",
       "      <td>Adanel</td>\n",
       "      <td>Human</td>\n",
       "    </tr>\n",
       "    <tr>\n",
       "      <th>1</th>\n",
       "      <td>Adrahil I</td>\n",
       "      <td>Human</td>\n",
       "    </tr>\n",
       "    <tr>\n",
       "      <th>2</th>\n",
       "      <td>Adrahil II</td>\n",
       "      <td>Human</td>\n",
       "    </tr>\n",
       "    <tr>\n",
       "      <th>3</th>\n",
       "      <td>Aegnor</td>\n",
       "      <td>Elf</td>\n",
       "    </tr>\n",
       "    <tr>\n",
       "      <th>4</th>\n",
       "      <td>Aerin</td>\n",
       "      <td>Human</td>\n",
       "    </tr>\n",
       "  </tbody>\n",
       "</table>\n",
       "</div>"
      ],
      "text/plain": [
       "         Name   Race\n",
       "0      Adanel  Human\n",
       "1   Adrahil I  Human\n",
       "2  Adrahil II  Human\n",
       "3      Aegnor    Elf\n",
       "4       Aerin  Human"
      ]
     },
     "execution_count": 1,
     "metadata": {},
     "output_type": "execute_result"
    }
   ],
   "source": [
    "import pandas as pd\n",
    "\n",
    "df = pd.read_csv(\"/kaggle/input/lord-of-the-rings-character-data/Characters.csv\")\n",
    "df = df.drop(columns=\"Url\")\n",
    "# Some examples from the data\n",
    "df.head()"
   ]
  },
  {
   "cell_type": "code",
   "execution_count": 2,
   "metadata": {},
   "outputs": [
    {
     "data": {
      "text/html": [
       "<div>\n",
       "<style scoped>\n",
       "    .dataframe tbody tr th:only-of-type {\n",
       "        vertical-align: middle;\n",
       "    }\n",
       "\n",
       "    .dataframe tbody tr th {\n",
       "        vertical-align: top;\n",
       "    }\n",
       "\n",
       "    .dataframe thead th {\n",
       "        text-align: right;\n",
       "    }\n",
       "</style>\n",
       "<table border=\"1\" class=\"dataframe\">\n",
       "  <thead>\n",
       "    <tr style=\"text-align: right;\">\n",
       "      <th></th>\n",
       "      <th>Name</th>\n",
       "    </tr>\n",
       "    <tr>\n",
       "      <th>Race</th>\n",
       "      <th></th>\n",
       "    </tr>\n",
       "  </thead>\n",
       "  <tbody>\n",
       "    <tr>\n",
       "      <th>Dwarf</th>\n",
       "      <td>47</td>\n",
       "    </tr>\n",
       "    <tr>\n",
       "      <th>Elf</th>\n",
       "      <td>97</td>\n",
       "    </tr>\n",
       "    <tr>\n",
       "      <th>Hobbit</th>\n",
       "      <td>215</td>\n",
       "    </tr>\n",
       "    <tr>\n",
       "      <th>Human</th>\n",
       "      <td>387</td>\n",
       "    </tr>\n",
       "    <tr>\n",
       "      <th>Maiar</th>\n",
       "      <td>11</td>\n",
       "    </tr>\n",
       "  </tbody>\n",
       "</table>\n",
       "</div>"
      ],
      "text/plain": [
       "        Name\n",
       "Race        \n",
       "Dwarf     47\n",
       "Elf       97\n",
       "Hobbit   215\n",
       "Human    387\n",
       "Maiar     11"
      ]
     },
     "execution_count": 2,
     "metadata": {},
     "output_type": "execute_result"
    }
   ],
   "source": [
    "# Sum the number of names per race\n",
    "df_summary = df.groupby(by=\"Race\").count()\n",
    "df_summary"
   ]
  },
  {
   "cell_type": "code",
   "execution_count": 3,
   "metadata": {
    "_cell_guid": "79c7e3d0-c299-4dcb-8224-4455121ee9b0",
    "_uuid": "d629ff2d2480ee46fbb7e2d37f6b5fab8052498a"
   },
   "outputs": [
    {
     "data": {
      "image/png": "[encoded data removed]",
      "text/plain": [
       "<Figure size 432x288 with 1 Axes>"
      ]
     },
     "metadata": {
      "needs_background": "light"
     },
     "output_type": "display_data"
    }
   ],
   "source": [
    "# Visualization\n",
    "ax = df_summary.unstack()[\"Name\"].plot(kind=\"bar\", color=['r', 'g', 'b', 'm', 'c'], legend=False)\n",
    "ax.set_ylabel(\"Number of Names\");"
   ]
  },
  {
   "cell_type": "markdown",
   "metadata": {},
   "source": [
    "### Our network will take in a single letter and predict what the next letter should be.\n",
    "\n",
    "### We will represent the letters with one-hot vectors, for which we need to know how many types of characters we can use."
   ]
  },
  {
   "cell_type": "code",
   "execution_count": 4,
   "metadata": {},
   "outputs": [
    {
     "data": {
      "text/plain": [
       "[':',\n",
       " 'x',\n",
       " 't',\n",
       " 's',\n",
       " 'V',\n",
       " \"'\",\n",
       " 'M',\n",
       " 'n',\n",
       " 'z',\n",
       " 'q',\n",
       " 'F',\n",
       " 'É',\n",
       " 'R',\n",
       " 'L',\n",
       " 'l',\n",
       " 'k',\n",
       " 'P',\n",
       " 'h',\n",
       " 'J',\n",
       " 'O',\n",
       " 'd',\n",
       " 'D',\n",
       " 'ú',\n",
       " 'y',\n",
       " '(',\n",
       " 'a',\n",
       " 'e',\n",
       " 'i',\n",
       " 'u',\n",
       " 'v',\n",
       " 'á',\n",
       " 'ó',\n",
       " 'û',\n",
       " 'A',\n",
       " 'N',\n",
       " 'T',\n",
       " 'ô',\n",
       " 'ä',\n",
       " 'ê',\n",
       " 'ë',\n",
       " 'E',\n",
       " 'H',\n",
       " '/',\n",
       " 'U',\n",
       " 'I',\n",
       " 'Í',\n",
       " 'b',\n",
       " 'í',\n",
       " 'f',\n",
       " 'p',\n",
       " 'î',\n",
       " 'c',\n",
       " 'C',\n",
       " '.',\n",
       " 'ö',\n",
       " 'Z',\n",
       " 'g',\n",
       " 'â',\n",
       " 'm',\n",
       " 'B',\n",
       " 'K',\n",
       " 'o',\n",
       " 'S',\n",
       " '-',\n",
       " 'G',\n",
       " 'w',\n",
       " 'Y',\n",
       " 'W',\n",
       " ')',\n",
       " 'r',\n",
       " 'é',\n",
       " ' ',\n",
       " 'Ó']"
      ]
     },
     "execution_count": 4,
     "metadata": {},
     "output_type": "execute_result"
    }
   ],
   "source": [
    "# Collect all unique characters in the data\n",
    "letters = list({letter for name in df[\"Name\"] for letter in name})\n",
    "letters"
   ]
  },
  {
   "cell_type": "code",
   "execution_count": 5,
   "metadata": {},
   "outputs": [
    {
     "name": "stdout",
     "output_type": "stream",
     "text": [
      "Number of letters: 75\n"
     ]
    }
   ],
   "source": [
    "# We need a special case for the start of the string (SOS) and the end of the string (EOS)\n",
    "n_letters = len(letters) + 2 \n",
    "print(\"Number of letters: %d\" % n_letters)"
   ]
  },
  {
   "cell_type": "markdown",
   "metadata": {},
   "source": [
    "### The network will generate names based on the category that we want."
   ]
  },
  {
   "cell_type": "code",
   "execution_count": 6,
   "metadata": {},
   "outputs": [
    {
     "name": "stdout",
     "output_type": "stream",
     "text": [
      "Categories: ['Human' 'Elf' 'Dwarf' 'Hobbit' 'Maiar'] \n",
      "Number of categories: 5\n"
     ]
    }
   ],
   "source": [
    "categories = df[\"Race\"].unique()\n",
    "n_category = len(categories)\n",
    "print(\"Categories: %s \\nNumber of categories: %d\" % (categories, n_category))"
   ]
  },
  {
   "cell_type": "markdown",
   "metadata": {},
   "source": [
    "## Here we define some helper functions that will be useful later"
   ]
  },
  {
   "cell_type": "code",
   "execution_count": 7,
   "metadata": {},
   "outputs": [],
   "source": [
    "import numpy as np\n",
    "\n",
    "# Get all names in a category\n",
    "def names(category):\n",
    "    return df[df[\"Race\"] == category][\"Name\"].values\n",
    "\n",
    "# Get a random category\n",
    "def randomValue(cont):\n",
    "    return cont[np.random.randint(0, len(cont) - 1)]\n",
    "\n",
    "# Get a random category and a random name from that category\n",
    "def randomTrainingPair(categories):\n",
    "    category = randomValue(categories)\n",
    "    name = randomValue(names(category))\n",
    "    return category, name"
   ]
  },
  {
   "cell_type": "code",
   "execution_count": 8,
   "metadata": {},
   "outputs": [
    {
     "name": "stdout",
     "output_type": "stream",
     "text": [
      "Some dwarf names: ['Azaghâl' 'Balin' 'Bifur' 'Bofur' 'Bombur'] \n",
      "A random category: Hobbit \n",
      "Random category and name: Dwarf, Frór\n"
     ]
    }
   ],
   "source": [
    "# Test the functions\n",
    "dwarf = names(\"Dwarf\")[:5]\n",
    "category = randomValue(categories)\n",
    "cat, name = randomTrainingPair(categories)\n",
    "print(\"Some dwarf names: %s \\nA random category: %s \\nRandom category and name: %s, %s\" % (dwarf, category, cat, name))"
   ]
  },
  {
   "cell_type": "markdown",
   "metadata": {},
   "source": [
    "### We will use pytorch to build our network, so we need to convert our inputs to tensors."
   ]
  },
  {
   "cell_type": "code",
   "execution_count": 9,
   "metadata": {},
   "outputs": [],
   "source": [
    "import torch\n",
    "\n",
    "# One-hot vector for category\n",
    "def categoryTensor(category):\n",
    "    ind = np.where(categories == category)\n",
    "    tensor = torch.zeros(1, n_category)\n",
    "    tensor[0][ind] = 1\n",
    "    return tensor\n",
    "\n",
    "# One-hot matrix of SOS and first to last letters (not including EOS) for input\n",
    "def inputTensor(name, add_start=True):\n",
    "    length = len(name) + 1 if add_start else len(name)\n",
    "    tensor = torch.zeros(length, 1, n_letters)\n",
    "    if add_start:\n",
    "        tensor[0][0][n_letters - 2] = 1 # SOS\n",
    "    for i in range(len(name)):\n",
    "        letter = name[i]\n",
    "        if add_start:\n",
    "            i = i + 1 # Shift, because of the SOS token\n",
    "        tensor[i][0][letters.index(letter)] = 1\n",
    "    return tensor\n",
    "\n",
    "# LongTensor of first letter to end (EOS) for target\n",
    "def targetTensor(name):\n",
    "    letter_indexes = [letters.index(name[i]) for i in range(len(name))]\n",
    "    letter_indexes.append(n_letters - 1) # EOS\n",
    "    return torch.LongTensor(letter_indexes)\n",
    "\n",
    "def randomTrainingExample(categories):\n",
    "    category, name = randomTrainingPair(categories)\n",
    "    category_tensor = categoryTensor(category)\n",
    "    input_line_tensor = inputTensor(name, add_start=True)\n",
    "    target_line_tensor = targetTensor(name)\n",
    "    return category_tensor, input_line_tensor, target_line_tensor"
   ]
  },
  {
   "cell_type": "code",
   "execution_count": 10,
   "metadata": {},
   "outputs": [
    {
     "name": "stdout",
     "output_type": "stream",
     "text": [
      "Random category and name: Human, Bór \n",
      "Category Tensor: tensor([[1., 0., 0., 0., 0.]]) \n",
      "Input Tensor: tensor([[[0., 0., 0., 0., 0., 0., 0., 0., 0., 0., 0., 0., 0., 0., 0., 0., 0.,\n",
      "          0., 0., 0., 0., 0., 0., 0., 0., 0., 0., 0., 0., 0., 0., 0., 0., 0.,\n",
      "          0., 0., 0., 0., 0., 0., 0., 0., 0., 0., 0., 0., 0., 0., 0., 0., 0.,\n",
      "          0., 0., 0., 0., 0., 0., 0., 0., 0., 0., 0., 0., 0., 0., 0., 0., 0.,\n",
      "          0., 0., 0., 0., 0., 1., 0.]],\n",
      "\n",
      "        [[0., 0., 0., 0., 0., 0., 0., 0., 0., 0., 0., 0., 0., 0., 0., 0., 0.,\n",
      "          0., 0., 0., 0., 0., 0., 0., 0., 0., 0., 0., 0., 0., 0., 0., 0., 0.,\n",
      "          0., 0., 0., 0., 0., 0., 0., 0., 0., 0., 0., 0., 0., 0., 0., 0., 0.,\n",
      "          0., 0., 0., 0., 0., 0., 0., 0., 1., 0., 0., 0., 0., 0., 0., 0., 0.,\n",
      "          0., 0., 0., 0., 0., 0., 0.]],\n",
      "\n",
      "        [[0., 0., 0., 0., 0., 0., 0., 0., 0., 0., 0., 0., 0., 0., 0., 0., 0.,\n",
      "          0., 0., 0., 0., 0., 0., 0., 0., 0., 0., 0., 0., 0., 0., 1., 0., 0.,\n",
      "          0., 0., 0., 0., 0., 0., 0., 0., 0., 0., 0., 0., 0., 0., 0., 0., 0.,\n",
      "          0., 0., 0., 0., 0., 0., 0., 0., 0., 0., 0., 0., 0., 0., 0., 0., 0.,\n",
      "          0., 0., 0., 0., 0., 0., 0.]],\n",
      "\n",
      "        [[0., 0., 0., 0., 0., 0., 0., 0., 0., 0., 0., 0., 0., 0., 0., 0., 0.,\n",
      "          0., 0., 0., 0., 0., 0., 0., 0., 0., 0., 0., 0., 0., 0., 0., 0., 0.,\n",
      "          0., 0., 0., 0., 0., 0., 0., 0., 0., 0., 0., 0., 0., 0., 0., 0., 0.,\n",
      "          0., 0., 0., 0., 0., 0., 0., 0., 0., 0., 0., 0., 0., 0., 0., 0., 0.,\n",
      "          0., 1., 0., 0., 0., 0., 0.]]]) \n",
      "Target Tensor: tensor([59, 31, 69, 74])\n",
      "\n",
      "Category Tensor: tensor([[0., 1., 0., 0., 0.]]) \n",
      "Input Tensor: tensor([[[0., 0., 0., 0., 0., 0., 0., 0., 0., 0., 0., 0., 0., 0., 0., 0., 0.,\n",
      "          0., 0., 0., 0., 0., 0., 0., 0., 0., 0., 0., 0., 0., 0., 0., 0., 0.,\n",
      "          0., 0., 0., 0., 0., 0., 0., 0., 0., 0., 0., 0., 0., 0., 0., 0., 0.,\n",
      "          0., 0., 0., 0., 0., 0., 0., 0., 0., 0., 0., 0., 0., 0., 0., 0., 0.,\n",
      "          0., 0., 0., 0., 0., 1., 0.]],\n",
      "\n",
      "        [[0., 0., 0., 0., 0., 0., 1., 0., 0., 0., 0., 0., 0., 0., 0., 0., 0.,\n",
      "          0., 0., 0., 0., 0., 0., 0., 0., 0., 0., 0., 0., 0., 0., 0., 0., 0.,\n",
      "          0., 0., 0., 0., 0., 0., 0., 0., 0., 0., 0., 0., 0., 0., 0., 0., 0.,\n",
      "          0., 0., 0., 0., 0., 0., 0., 0., 0., 0., 0., 0., 0., 0., 0., 0., 0.,\n",
      "          0., 0., 0., 0., 0., 0., 0.]],\n",
      "\n",
      "        [[0., 0., 0., 0., 0., 0., 0., 0., 0., 0., 0., 0., 0., 0., 0., 0., 0.,\n",
      "          0., 0., 0., 0., 0., 0., 0., 0., 1., 0., 0., 0., 0., 0., 0., 0., 0.,\n",
      "          0., 0., 0., 0., 0., 0., 0., 0., 0., 0., 0., 0., 0., 0., 0., 0., 0.,\n",
      "          0., 0., 0., 0., 0., 0., 0., 0., 0., 0., 0., 0., 0., 0., 0., 0., 0.,\n",
      "          0., 0., 0., 0., 0., 0., 0.]],\n",
      "\n",
      "        [[0., 0., 0., 0., 0., 0., 0., 0., 0., 0., 0., 0., 0., 0., 0., 0., 0.,\n",
      "          0., 0., 0., 0., 0., 0., 0., 0., 0., 1., 0., 0., 0., 0., 0., 0., 0.,\n",
      "          0., 0., 0., 0., 0., 0., 0., 0., 0., 0., 0., 0., 0., 0., 0., 0., 0.,\n",
      "          0., 0., 0., 0., 0., 0., 0., 0., 0., 0., 0., 0., 0., 0., 0., 0., 0.,\n",
      "          0., 0., 0., 0., 0., 0., 0.]],\n",
      "\n",
      "        [[0., 0., 0., 0., 0., 0., 0., 0., 0., 0., 0., 0., 0., 0., 0., 0., 0.,\n",
      "          0., 0., 0., 0., 0., 0., 0., 0., 0., 0., 0., 0., 0., 0., 0., 0., 0.,\n",
      "          0., 0., 0., 0., 0., 0., 0., 0., 0., 0., 0., 0., 0., 0., 0., 0., 0.,\n",
      "          0., 0., 0., 0., 0., 1., 0., 0., 0., 0., 0., 0., 0., 0., 0., 0., 0.,\n",
      "          0., 0., 0., 0., 0., 0., 0.]],\n",
      "\n",
      "        [[0., 0., 0., 0., 0., 0., 0., 0., 0., 0., 0., 0., 0., 0., 1., 0., 0.,\n",
      "          0., 0., 0., 0., 0., 0., 0., 0., 0., 0., 0., 0., 0., 0., 0., 0., 0.,\n",
      "          0., 0., 0., 0., 0., 0., 0., 0., 0., 0., 0., 0., 0., 0., 0., 0., 0.,\n",
      "          0., 0., 0., 0., 0., 0., 0., 0., 0., 0., 0., 0., 0., 0., 0., 0., 0.,\n",
      "          0., 0., 0., 0., 0., 0., 0.]],\n",
      "\n",
      "        [[0., 0., 0., 0., 0., 0., 0., 0., 0., 0., 0., 0., 0., 0., 0., 0., 0.,\n",
      "          0., 0., 0., 0., 0., 0., 0., 0., 0., 0., 1., 0., 0., 0., 0., 0., 0.,\n",
      "          0., 0., 0., 0., 0., 0., 0., 0., 0., 0., 0., 0., 0., 0., 0., 0., 0.,\n",
      "          0., 0., 0., 0., 0., 0., 0., 0., 0., 0., 0., 0., 0., 0., 0., 0., 0.,\n",
      "          0., 0., 0., 0., 0., 0., 0.]],\n",
      "\n",
      "        [[0., 0., 0., 0., 0., 0., 0., 1., 0., 0., 0., 0., 0., 0., 0., 0., 0.,\n",
      "          0., 0., 0., 0., 0., 0., 0., 0., 0., 0., 0., 0., 0., 0., 0., 0., 0.,\n",
      "          0., 0., 0., 0., 0., 0., 0., 0., 0., 0., 0., 0., 0., 0., 0., 0., 0.,\n",
      "          0., 0., 0., 0., 0., 0., 0., 0., 0., 0., 0., 0., 0., 0., 0., 0., 0.,\n",
      "          0., 0., 0., 0., 0., 0., 0.]]]) \n",
      "Target Tensor: tensor([ 6, 25, 26, 56, 14, 27,  7, 74])\n"
     ]
    }
   ],
   "source": [
    "# Test the functions\n",
    "cat, name = randomTrainingPair(categories)\n",
    "c_tensor = categoryTensor(cat)\n",
    "i_tensor = inputTensor(name)\n",
    "t_tensor = targetTensor(name)\n",
    "c, i, t = randomTrainingExample(categories)\n",
    "print(\"Random category and name: %s, %s \\nCategory Tensor: %s \\nInput Tensor: %s \\nTarget Tensor: %s\\\n",
    "\\n\\nCategory Tensor: %s \\nInput Tensor: %s \\nTarget Tensor: %s\" % (cat,name,c_tensor,i_tensor,t_tensor,c,i,t))\n",
    "# Notice how all input tensors start the same and all target tensors end the same "
   ]
  },
  {
   "cell_type": "markdown",
   "metadata": {},
   "source": [
    "# Build The Network"
   ]
  },
  {
   "cell_type": "code",
   "execution_count": 11,
   "metadata": {},
   "outputs": [],
   "source": [
    "import torch.nn as nn\n",
    "\n",
    "# A simple network using GRU(gated recurrent unit)\n",
    "class RNN(nn.Module):\n",
    "    def __init__(self, input_size, hidden_size, output_size):\n",
    "        super(RNN, self).__init__()\n",
    "        self.hidden_size = hidden_size\n",
    "\n",
    "        self.fc = nn.Linear(n_category + input_size, hidden_size)\n",
    "        self.relu = nn.ReLU()\n",
    "        self.gru = nn.GRU(hidden_size, hidden_size, num_layers=1)\n",
    "        self.fc2 = nn.Linear(hidden_size, output_size)\n",
    "\n",
    "        self.softmax = nn.LogSoftmax(dim=1)\n",
    "\n",
    "    def forward(self, category, inp, hidden):\n",
    "        input_combined = torch.cat((category, inp), 1) # Concatenate the category and input\n",
    "        inp = self.relu(self.fc(input_combined)).view(1,1,-1)\n",
    "        output, hidden = self.gru(inp, hidden)\n",
    "        output = self.fc2(output.view(1,-1))\n",
    "        output = self.softmax(output).view(1,-1)\n",
    "        return output, hidden\n",
    "\n",
    "    def initHidden(self):\n",
    "        return torch.zeros(1, 1, self.hidden_size)"
   ]
  },
  {
   "cell_type": "markdown",
   "metadata": {},
   "source": [
    "# Training"
   ]
  },
  {
   "cell_type": "code",
   "execution_count": 12,
   "metadata": {},
   "outputs": [],
   "source": [
    "import torch.optim as optim\n",
    "\n",
    "# Define network, loss function, and optimization\n",
    "rnn = RNN(n_letters, 128, n_letters)\n",
    "\n",
    "learning_rate = 0.0005\n",
    "criterion = nn.NLLLoss()\n",
    "optim = optim.Adam(rnn.parameters(), lr=learning_rate)"
   ]
  },
  {
   "cell_type": "code",
   "execution_count": 13,
   "metadata": {},
   "outputs": [],
   "source": [
    "import time\n",
    "import math\n",
    "\n",
    "# Helper functions for training\n",
    "\n",
    "def train(category_tensor, input_tensor, target_tensor):\n",
    "    target_tensor.unsqueeze_(-1)\n",
    "    hidden = rnn.initHidden()\n",
    "\n",
    "    optim.zero_grad()\n",
    "    loss = 0\n",
    "\n",
    "    for i in range(input_tensor.size(0)):\n",
    "        inp = input_tensor[i]\n",
    "        output, hidden = rnn(category_tensor, inp, hidden)\n",
    "        l = criterion(output, target_tensor[i])\n",
    "        loss += l\n",
    "\n",
    "    loss.backward()\n",
    "    \n",
    "    optim.step()\n",
    "\n",
    "    return output, loss.item() / input_tensor.size(0)\n",
    "\n",
    "def timeSince(since):\n",
    "    now = time.time()\n",
    "    s = now - since\n",
    "    m = math.floor(s / 60)\n",
    "    s -= m * 60\n",
    "    return '%dm %ds' % (m, s)\n",
    "\n",
    "# Sample from a category and optional: start of name\n",
    "def sample(category, start=\"\", max_length=20):\n",
    "    with torch.no_grad():  # no need to track history in sampling\n",
    "        category_tensor = categoryTensor(category)\n",
    "\n",
    "        inp = inputTensor(start)\n",
    "        hidden = rnn.initHidden()\n",
    "\n",
    "        output_name = start\n",
    "\n",
    "        if start != \"\": # Build up hidden\n",
    "            for i in range(len(inp) - 1): # Process every letter except for the last one\n",
    "                _, hidden = rnn(category_tensor, inp[i], hidden)\n",
    "            inp = inp[-1].view(1,1,-1)     \n",
    "        for i in range(max_length - len(start)):\n",
    "            output, hidden = rnn(category_tensor, inp[0], hidden)\n",
    "            # Get the most likely next letter\n",
    "            topv, topi = output.topk(1)\n",
    "            topi = topi[0][0]\n",
    "            if topi == n_letters - 1: # EOS\n",
    "                break\n",
    "            else:\n",
    "                letter = letters[topi]\n",
    "                output_name += letter\n",
    "            inp = inputTensor(letter, add_start=False) # We don't need SOS\n",
    "\n",
    "        return output_name\n",
    "    \n",
    "def evaluation(epoch, start=\"\", max_length=20):\n",
    "    f = open(\"train.txt\", \"a\")\n",
    "    f.write(\"Epoch: %s \\n\" % epoch)\n",
    "    for category in categories:\n",
    "        name = sample(category, start=start, max_length=max_length)        \n",
    "        print(\"%s: %s\" % (category, name))        \n",
    "        f.write(\"%s: %s \\n\" % (category, name))\n",
    "    f.write(\"\\n\")\n",
    "    f.close()"
   ]
  },
  {
   "cell_type": "code",
   "execution_count": 14,
   "metadata": {},
   "outputs": [
    {
     "name": "stdout",
     "output_type": "stream",
     "text": [
      "1m 37s (5000 5%) 1.8030\n",
      "Human: Arandin\n",
      "Elf: Elelel\n",
      "Dwarf: Frór\n",
      "Hobbit: Haro Brandybuck\n",
      "Maiar: Harandin\n",
      "3m 19s (10000 10%) 1.0756\n",
      "Human: Arandil\n",
      "Elf: Elendor\n",
      "Dwarf: Thrór\n",
      "Hobbit: Boldibras Brandybuck\n",
      "Maiar: Galdil (Gold)\n",
      "4m 59s (15000 15%) 1.3301\n",
      "Human: Haldir\n",
      "Elf: Elemmír\n",
      "Dwarf: Thorin II Oakenshiel\n",
      "Hobbit: Halfast Gamgee\n",
      "Maiar: Théoden\n",
      "6m 33s (20000 20%) 0.5464\n",
      "Human: Belen\n",
      "Elf: Elrond\n",
      "Dwarf: Dáin I\n",
      "Hobbit: Bilbo Baggins\n",
      "Maiar: Tar-Mirion\n",
      "8m 13s (25000 25%) 1.1178\n",
      "Human: Arahal\n",
      "Elf: Aranwë\n",
      "Dwarf: Frór\n",
      "Hobbit: Frodo Baggins\n",
      "Maiar: Golmod Brandor\n",
      "9m 54s (30000 30%) 0.8849\n",
      "Human: Arantur\n",
      "Elf: Elemmírë (elf)\n",
      "Dwarf: Náli\n",
      "Hobbit: Rose Gamgee\n",
      "Maiar: Tar-Tellamir (Goldow\n",
      "11m 32s (35000 35%) 0.6575\n",
      "Human: Boromir\n",
      "Elf: Elemmakil\n",
      "Dwarf: Bofur\n",
      "Hobbit: Marmadas Brandybuck\n",
      "Maiar: Gildodac Brandor\n",
      "13m 12s (40000 40%) 0.7364\n",
      "Human: Tar-Aldarion\n",
      "Elf: Anairë\n",
      "Dwarf: Thorin II Oakenshiel\n",
      "Hobbit: Holman Greenhand\n",
      "Maiar: Thringor\n",
      "14m 55s (45000 45%) 0.8499\n",
      "Human: Bereg\n",
      "Elf: Enelyë\n",
      "Dwarf: Náin II\n",
      "Hobbit: Ponto Baggins\n",
      "Maiar: Mallast\n",
      "16m 34s (50000 50%) 0.7358\n",
      "Human: Arathorn I\n",
      "Elf: Argon\n",
      "Dwarf: Thorin III Stonehelm\n",
      "Hobbit: Bilbo Gardner\n",
      "Maiar: Gildim\n",
      "18m 14s (55000 55%) 0.1823\n",
      "Human: Beren (Steward)\n",
      "Elf: Aredhel\n",
      "Dwarf: Frerin\n",
      "Hobbit: Ponto Baggins\n",
      "Maiar: Gildis (Gammin)\n",
      "19m 55s (60000 60%) 0.2334\n",
      "Human: Aranarth\n",
      "Elf: Aredhel\n",
      "Dwarf: Frerin\n",
      "Hobbit: Robin Smallburrow\n",
      "Maiar: Galdor\n",
      "21m 35s (65000 65%) 0.6116\n",
      "Human: Arathorn II\n",
      "Elf: Gilfanon\n",
      "Dwarf: Frerin\n",
      "Hobbit: Fosco Baggins\n",
      "Maiar: Galdor\n",
      "23m 16s (70000 70%) 0.4061\n",
      "Human: Aranarth\n",
      "Elf: Gwindor\n",
      "Dwarf: Grór\n",
      "Hobbit: Rose Greenhand\n",
      "Maiar: Gallondin\n",
      "24m 57s (75000 75%) 0.7559\n",
      "Human: Aranuir\n",
      "Elf: Elladan and Elrohir\n",
      "Dwarf: Frár\n",
      "Hobbit: Ponto Baggins\n",
      "Maiar: Galdor\n",
      "26m 36s (80000 80%) 0.8803\n",
      "Human: Beregond\n",
      "Elf: Gildor Inglorion\n",
      "Dwarf: Thráin I\n",
      "Hobbit: Marmadas Brandybuck\n",
      "Maiar: Galdo\n",
      "28m 16s (85000 85%) 1.0483\n",
      "Human: Aravir\n",
      "Elf: Angrod\n",
      "Dwarf: Thorin I\n",
      "Hobbit: Marmadas Brandybuck\n",
      "Maiar: Gollim\n",
      "29m 53s (90000 90%) 0.5230\n",
      "Human: Araphor\n",
      "Elf: Elemmírë (elf)\n",
      "Dwarf: Dáin I\n",
      "Hobbit: Ponto Baggins\n",
      "Maiar: Goldwine\n",
      "31m 33s (95000 95%) 0.4912\n",
      "Human: Arvegil\n",
      "Elf: Elemmakil\n",
      "Dwarf: Thorin II Oakenshiel\n",
      "Hobbit: Bilbo Baggins\n",
      "Maiar: Gundo\n",
      "33m 14s (100000 100%) 0.1490\n",
      "Human: Tar-Ardamin\n",
      "Elf: Elrond\n",
      "Dwarf: Náin II\n",
      "Hobbit: Pimpernel Took\n",
      "Maiar: Goldwine\n"
     ]
    }
   ],
   "source": [
    "# Training\n",
    "epoch = 100000\n",
    "print_every = 5000\n",
    "plot_every = 500\n",
    "all_losses = []\n",
    "total_loss = 0 # Reset every plot_every iters\n",
    "\n",
    "start = time.time()\n",
    "\n",
    "save_model = \"net.pth\"\n",
    "\n",
    "for it in range(1, epoch + 1):\n",
    "    output, loss = train(*randomTrainingExample(categories))\n",
    "    total_loss += loss\n",
    "\n",
    "    if it % print_every == 0:\n",
    "        print('%s (%d %d%%) %.4f' % (timeSince(start), it, it / epoch * 100, loss))\n",
    "        torch.save(rnn.state_dict(), save_model)\n",
    "        evaluation(it)\n",
    "\n",
    "    if it % plot_every == 0:\n",
    "        all_losses.append(total_loss / plot_every)\n",
    "        total_loss = 0"
   ]
  },
  {
   "cell_type": "code",
   "execution_count": 15,
   "metadata": {},
   "outputs": [
    {
     "data": {
      "image/png": "[encoded data removed]",
      "text/plain": [
       "<Figure size 432x288 with 1 Axes>"
      ]
     },
     "metadata": {
      "needs_background": "light"
     },
     "output_type": "display_data"
    }
   ],
   "source": [
    "import matplotlib.pyplot as plt\n",
    "\n",
    "# Plot loss\n",
    "plt.plot(all_losses)\n",
    "plt.xlabel(\"Epoch\")\n",
    "plt.ylabel(\"Loss\")\n",
    "plt.show()"
   ]
  },
  {
   "cell_type": "code",
   "execution_count": 16,
   "metadata": {},
   "outputs": [],
   "source": [
    "# Save the network\n",
    "torch.save(rnn.state_dict(), save_model)"
   ]
  },
  {
   "cell_type": "markdown",
   "metadata": {},
   "source": [
    "# Name Generating"
   ]
  },
  {
   "cell_type": "code",
   "execution_count": 17,
   "metadata": {},
   "outputs": [
    {
     "name": "stdout",
     "output_type": "stream",
     "text": [
      "Dhurin\n",
      "Rodreth (Steward)\n",
      "Elrond\n"
     ]
    }
   ],
   "source": [
    "# Now we can generate as many names as we want\n",
    "\n",
    "print(sample(\"Dwarf\", start=\"Dhu\"))\n",
    "print(sample(\"Human\", start=\"Rod\"))\n",
    "print(sample(\"Elf\", start=\"El\"))"
   ]
  },
  {
   "cell_type": "code",
   "execution_count": 18,
   "metadata": {},
   "outputs": [
    {
     "name": "stdout",
     "output_type": "stream",
     "text": [
      "Human: Hallatan\n",
      "Elf: Haldir (Lorien)\n",
      "Dwarf: Halchar\n",
      "Hobbit: Halfred Greenhand\n",
      "Maiar: Halmac Horngor\n",
      "\n",
      "Human: Estelmo\n",
      "Elf: Esel\n",
      "Dwarf: Eser:Deathshriek\n",
      "Hobbit: Esmeralda Brandybuck\n",
      "Maiar: Esmer (Gondor)\n"
     ]
    }
   ],
   "source": [
    "# We can see how different the names are even when they start the same\n",
    "for category in categories:\n",
    "    print(\"%s: %s\" % (category, sample(category, start=\"Hal\")))\n",
    "print()\n",
    "for category in categories:\n",
    "    print(\"%s: %s\" % (category, sample(category, start=\"Es\")))"
   ]
  },
  {
   "cell_type": "markdown",
   "metadata": {},
   "source": [
    "## If you're interested in RNNs, then take a look at the following pytorch tutorial, I created this notebook after completing it: [https://pytorch.org/tutorials/intermediate/char_rnn_generation_tutorial.html#Creating-the-Network](http://)\n",
    "##  \n"
   ]
  },
  {
   "cell_type": "code",
   "execution_count": null,
   "metadata": {},
   "outputs": [],
   "source": []
  }
 ],
 "metadata": {
  "kernelspec": {
   "display_name": "Python 3",
   "language": "python",
   "name": "python3"
  },
  "language_info": {
   "codemirror_mode": {
    "name": "ipython",
    "version": 3
   },
   "file_extension": ".py",
   "mimetype": "text/x-python",
   "name": "python",
   "nbconvert_exporter": "python",
   "pygments_lexer": "ipython3",
   "version": "3.6.6"
  }
 },
 "nbformat": 4,
 "nbformat_minor": 1
}
