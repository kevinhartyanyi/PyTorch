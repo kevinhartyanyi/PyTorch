<!DOCTYPE html>
<!--[if lt IE 7 ]><html class="ie ie6" lang="en-US"> <![endif]-->
<!--[if IE 7 ]><html class="ie ie7" lang="en-US"> <![endif]-->
<!--[if IE 8 ]><html class="ie ie8" lang="en-US"> <![endif]-->
<!--[if IE 9 ]><html class="ie ie9" lang="en-US"> <![endif]-->
<!--[if (gt IE 9)|!(IE)]><!--><html lang="en-US"> <!--<![endif]-->
<head>
	<title>Error 404 Not Found | Stanford Artificial Intelligence Laboratory</title>
	<meta name="description" content=" &raquo; Page not found | " />
	<meta charset="UTF-8" />
	<meta name="viewport" content="width=device-width, initial-scale=1.0">
	<link rel="profile" href="http://gmpg.org/xfn/11" />
		<link rel="icon" href="http://ai.stanford.edu/wp-content/uploads/2014/03/favicon.ico" type="image/x-icon" />
		<link rel="pingback" href="https://ai.stanford.edu/xmlrpc.php" />
	<link rel="alternate" type="application/rss+xml" title="Stanford Artificial Intelligence Laboratory" href="https://ai.stanford.edu/feed/" />
	<link rel="alternate" type="application/atom+xml" title="Stanford Artificial Intelligence Laboratory" href="https://ai.stanford.edu/feed/atom/" />
	<link rel="stylesheet" type="text/css" media="all" href="https://ai.stanford.edu/wp-content/themes/theme47542/bootstrap/css/bootstrap.css" />
	<link rel="stylesheet" type="text/css" media="all" href="https://ai.stanford.edu/wp-content/themes/theme47542/bootstrap/css/responsive.css" />
	<link rel="stylesheet" type="text/css" media="all" href="https://ai.stanford.edu/wp-content/themes/CherryFramework/css/camera.css" />
	<link rel="stylesheet" type="text/css" media="all" href="https://ai.stanford.edu/wp-content/themes/theme47542/style.css" />
	<link rel='dns-prefetch' href='//ai.stanford.edu' />
<link rel='dns-prefetch' href='//netdna.bootstrapcdn.com' />
<link rel='dns-prefetch' href='//fonts.googleapis.com' />
<link rel='dns-prefetch' href='//s.w.org' />
<link rel="alternate" type="application/rss+xml" title="Stanford Artificial Intelligence Laboratory &raquo; Feed" href="https://ai.stanford.edu/feed/" />
<link rel="alternate" type="application/rss+xml" title="Stanford Artificial Intelligence Laboratory &raquo; Comments Feed" href="https://ai.stanford.edu/comments/feed/" />
		<script type="text/javascript">
			window._wpemojiSettings = {"baseUrl":"https:\/\/s.w.org\/images\/core\/emoji\/12.0.0-1\/72x72\/","ext":".png","svgUrl":"https:\/\/s.w.org\/images\/core\/emoji\/12.0.0-1\/svg\/","svgExt":".svg","source":{"concatemoji":"https:\/\/ai.stanford.edu\/wp-includes\/js\/wp-emoji-release.min.js?ver=5.2.2"}};
			!function(a,b,c){function d(a,b){var c=String.fromCharCode;l.clearRect(0,0,k.width,k.height),l.fillText(c.apply(this,a),0,0);var d=k.toDataURL();l.clearRect(0,0,k.width,k.height),l.fillText(c.apply(this,b),0,0);var e=k.toDataURL();return d===e}function e(a){var b;if(!l||!l.fillText)return!1;switch(l.textBaseline="top",l.font="600 32px Arial",a){case"flag":return!(b=d([55356,56826,55356,56819],[55356,56826,8203,55356,56819]))&&(b=d([55356,57332,56128,56423,56128,56418,56128,56421,56128,56430,56128,56423,56128,56447],[55356,57332,8203,56128,56423,8203,56128,56418,8203,56128,56421,8203,56128,56430,8203,56128,56423,8203,56128,56447]),!b);case"emoji":return b=d([55357,56424,55356,57342,8205,55358,56605,8205,55357,56424,55356,57340],[55357,56424,55356,57342,8203,55358,56605,8203,55357,56424,55356,57340]),!b}return!1}function f(a){var c=b.createElement("script");c.src=a,c.defer=c.type="text/javascript",b.getElementsByTagName("head")[0].appendChild(c)}var g,h,i,j,k=b.createElement("canvas"),l=k.getContext&&k.getContext("2d");for(j=Array("flag","emoji"),c.supports={everything:!0,everythingExceptFlag:!0},i=0;i<j.length;i++)c.supports[j[i]]=e(j[i]),c.supports.everything=c.supports.everything&&c.supports[j[i]],"flag"!==j[i]&&(c.supports.everythingExceptFlag=c.supports.everythingExceptFlag&&c.supports[j[i]]);c.supports.everythingExceptFlag=c.supports.everythingExceptFlag&&!c.supports.flag,c.DOMReady=!1,c.readyCallback=function(){c.DOMReady=!0},c.supports.everything||(h=function(){c.readyCallback()},b.addEventListener?(b.addEventListener("DOMContentLoaded",h,!1),a.addEventListener("load",h,!1)):(a.attachEvent("onload",h),b.attachEvent("onreadystatechange",function(){"complete"===b.readyState&&c.readyCallback()})),g=c.source||{},g.concatemoji?f(g.concatemoji):g.wpemoji&&g.twemoji&&(f(g.twemoji),f(g.wpemoji)))}(window,document,window._wpemojiSettings);
		</script>
		<style type="text/css">
img.wp-smiley,
img.emoji {
	display: inline !important;
	border: none !important;
	box-shadow: none !important;
	height: 1em !important;
	width: 1em !important;
	margin: 0 .07em !important;
	vertical-align: -0.1em !important;
	background: none !important;
	padding: 0 !important;
}
</style>
	<link rel='stylesheet' id='flexslider-css'  href='https://ai.stanford.edu/wp-content/plugins/cherry-plugin/lib/js/FlexSlider/flexslider.css?ver=2.0' type='text/css' media='all' />
<link rel='stylesheet' id='owl-carousel-css'  href='https://ai.stanford.edu/wp-content/plugins/cherry-plugin/lib/js/owl-carousel/owl.carousel.css?ver=1.24' type='text/css' media='all' />
<link rel='stylesheet' id='owl-theme-css'  href='https://ai.stanford.edu/wp-content/plugins/cherry-plugin/lib/js/owl-carousel/owl.theme.css?ver=1.24' type='text/css' media='all' />
<link rel='stylesheet' id='font-awesome-css'  href='http://netdna.bootstrapcdn.com/font-awesome/3.2.1/css/font-awesome.css?ver=3.2.1' type='text/css' media='all' />
<link rel='stylesheet' id='cherry-plugin-css'  href='https://ai.stanford.edu/wp-content/plugins/cherry-plugin/includes/css/cherry-plugin.css?ver=1.0' type='text/css' media='all' />
<link rel='stylesheet' id='wp-block-library-css'  href='https://ai.stanford.edu/wp-includes/css/dist/block-library/style.min.css?ver=5.2.2' type='text/css' media='all' />
<link rel='stylesheet' id='theme47542-css'  href='https://ai.stanford.edu/wp-content/themes/theme47542/main-style.css' type='text/css' media='all' />
<link rel='stylesheet' id='magnific-popup-css'  href='https://ai.stanford.edu/wp-content/themes/CherryFramework/css/magnific-popup.css?ver=0.9.3' type='text/css' media='all' />
<link rel='stylesheet' id='options_typography_Open+Sans-css'  href='//fonts.googleapis.com/css?family=Open+Sans&#038;subset=latin' type='text/css' media='all' />
<link rel='stylesheet' id='options_typography_Playfair+Display-css'  href='//fonts.googleapis.com/css?family=Playfair+Display&#038;subset=latin' type='text/css' media='all' />
<script type='text/javascript' src='https://ai.stanford.edu/wp-content/themes/CherryFramework/js/jquery-1.7.2.min.js?ver=1.7.2'></script>
<script type='text/javascript' src='https://ai.stanford.edu/wp-includes/js/swfobject.js?ver=2.2-20120417'></script>
<script type='text/javascript' src='https://ai.stanford.edu/wp-content/themes/CherryFramework/js/modernizr.js?ver=2.0.6'></script>
<script type='text/javascript' src='https://ai.stanford.edu/wp-content/themes/CherryFramework/js/jflickrfeed.js?ver=1.0'></script>
<script type='text/javascript' src='https://ai.stanford.edu/wp-content/themes/CherryFramework/js/custom.js?ver=1.0'></script>
<script type='text/javascript' src='https://ai.stanford.edu/wp-content/themes/CherryFramework/bootstrap/js/bootstrap.min.js?ver=2.3.0'></script>
<link rel='https://api.w.org/' href='https://ai.stanford.edu/wp-json/' />
<link rel="EditURI" type="application/rsd+xml" title="RSD" href="https://ai.stanford.edu/xmlrpc.php?rsd" />
<link rel="wlwmanifest" type="application/wlwmanifest+xml" href="https://ai.stanford.edu/wp-includes/wlwmanifest.xml" /> 
<meta name="generator" content="WordPress 5.2.2" />
<script>
 var system_folder = 'https://ai.stanford.edu/wp-content/themes/CherryFramework/admin/data_management/',
	 CHILD_URL ='https://ai.stanford.edu/wp-content/themes/theme47542',
	 PARENT_URL = 'https://ai.stanford.edu/wp-content/themes/CherryFramework', 
	 CURRENT_THEME = 'theme47542'</script>	<style type="text/css">
		.cherry-fixed-layout .main-holder { background: #fafafa; }
	</style>
	
<style type='text/css'>
body { background-color:#ffffff }

</style>
<style type='text/css'>
h1 { font: normal 50px/35px Open Sans;  color:#ffffff; }
h2 { font: normal 30px/22px Open Sans;  color:#DDCF99; }
h3 { font: normal 18px/18px Open Sans;  color:#3d3d3d; }
h4 { font: normal 14px/18px Open Sans;  color:#3d3d3d; }
h5 { font: normal 12px/18px Open Sans;  color:#3d3d3d; }
h6 { font: normal 12px/18px Open Sans;  color:#3d3d3d; }
body { font-weight: normal;}
.logo_h__txt, .logo_link { font: bold 45px/14px Playfair Display;  color:#3d3d3d; }
.sf-menu > li > a { font: bold 15px/18px Open Sans;  color:#808285; }
.nav.footer-nav a { font: normal 12px/18px Open Sans;  color:#58595b; }
</style>
		<style type="text/css" id="wp-custom-css">
			.main-holder .nav.nav__primary ul.sf-menu li a {
	display: flex;
	margin: 0 0px 0 20px;
}

.main-holder .banner-wrap {
	width:190px;
	margin-left:0px;
	padding-left:0px;
}

.row {
	display: flex;
	flex-wrap: wrap;
}

@media (max-width: 979px) and (min-width: 768px){
.span8 {
    width: 120%;
}
}

.main-holder .camera_wrap {
	height: 50vh !important;
}		</style>
				<!--[if lt IE 8]>
	<div style=' clear: both; text-align:center; position: relative;'>
		<a href="http://www.microsoft.com/windows/internet-explorer/default.aspx?ocid=ie6_countdown_bannercode"><img src="http://storage.ie6countdown.com/assets/100/images/banners/warning_bar_0000_us.jpg" border="0" alt="" /></a>
	</div>
	<![endif]-->
	<!--[if (gt IE 9)|!(IE)]><!-->
	<script src="https://ai.stanford.edu/wp-content/themes/CherryFramework/js/jquery.mobile.customized.min.js" type="text/javascript"></script>
	<script type="text/javascript">
		jQuery(function(){
			jQuery('.sf-menu').mobileMenu({defaultText: "Navigate to..."});
		});
	</script>
	<!--<![endif]-->
	<script type="text/javascript">
		// Init navigation menu
		jQuery(function(){
		// main navigation init
			jQuery('ul.sf-menu').superfish({
				delay: 1000, // the delay in milliseconds that the mouse can remain outside a sub-menu without it closing
				animation: {
					opacity: "show",
					height: "show"
				}, // used to animate the sub-menu open
				speed: "fast", // animation speed 
				autoArrows: false, // generation of arrow mark-up (for submenu)
				disableHI: true // to disable hoverIntent detection
			});

		//Zoom fix
		//IPad/IPhone
			var viewportmeta = document.querySelector && document.querySelector('meta[name="viewport"]'),
				ua = navigator.userAgent,
				gestureStart = function () {
					viewportmeta.content = "width=device-width, minimum-scale=0.25, maximum-scale=1.6, initial-scale=1.0";
				},
				scaleFix = function () {
					if (viewportmeta && /iPhone|iPad/.test(ua) && !/Opera Mini/.test(ua)) {
						viewportmeta.content = "width=device-width, minimum-scale=1.0, maximum-scale=1.0";
						document.addEventListener("gesturestart", gestureStart, false);
					}
				};
			scaleFix();
		})
	</script>
</head>

<body class="error404">
	<div id="motopress-main" class="main-holder">
		<!--Begin #motopress-main-->
		<header class="motopress-wrapper header">
			<div class="container">
				<div class="row">
					<div class="span12" data-motopress-wrapper-file="wrapper/wrapper-header.php" data-motopress-wrapper-type="header" data-motopress-id="5e27071bd0e72">
						<div class="row">
	<div class="span4" data-motopress-type="static" data-motopress-static-file="static/static-logo.php">
		<!-- BEGIN LOGO -->
<div class="logo pull-left">
									<a href="https://ai.stanford.edu/" class="logo_h logo_h__img"><img src="http://ai.stanford.edu/wp-content/uploads/2014/03/logo_stanford_artificial_intelligence_lab1.png" alt="Stanford Artificial Intelligence Laboratory" title=""></a>
				</div>
<!-- END LOGO -->    
    </div>
	
    <div class="span8" data-motopress-type="static" data-motopress-static-file="static/static-nav.php">
		<!-- BEGIN MAIN NAVIGATION -->
<nav class="nav nav__primary clearfix">
<ul id="topnav" class="sf-menu"><li id="menu-item-2204" class="menu-item menu-item-type-custom menu-item-object-custom menu-item-home"><a href="http://ai.stanford.edu/#faculty">Home</a></li>
<li id="menu-item-2324" class="menu-item menu-item-type-post_type menu-item-object-page"><a href="https://ai.stanford.edu/ai-affiliates-program/">Affiliates</a></li>
<li id="menu-item-2359" class="menu-item menu-item-type-post_type menu-item-object-page"><a href="https://ai.stanford.edu/events/">Events</a></li>
<li id="menu-item-2126" class="menu-item menu-item-type-post_type menu-item-object-page"><a href="https://ai.stanford.edu/courses/">Courses</a></li>
<li id="menu-item-3072" class="menu-item menu-item-type-custom menu-item-object-custom"><a href="http://ai.stanford.edu/blog">Blog</a></li>
<li id="menu-item-2703" class="menu-item menu-item-type-post_type menu-item-object-page"><a href="https://ai.stanford.edu/outreach/">Outreach</a></li>
<li id="menu-item-2125" class="menu-item menu-item-type-post_type menu-item-object-page"><a href="https://ai.stanford.edu/contact/">Contact</a></li>
<li id="menu-item-2234" class="menu-item menu-item-type-custom menu-item-object-custom"><a href="http://ai.stanford.edu/sail">Internal</a></li>
</ul></nav><!-- END MAIN NAVIGATION -->	</div>
</div>					</div>
				</div>
			</div>
		</header>
        
        <div class="motopress-wrapper mainPageTitle">
          <div class="container">
                <div class="row">
                    <div class="span12">
                        <section class="title-section">
	<h1 class="title-header">
						</h1>
	</section><!-- .title-section -->
                    </div>
                </div>
            </div>
        </div>
<div class="motopress-wrapper content-holder clearfix">
	<div class="container">
		<div class="row">
			<div class="span12" data-motopress-wrapper-file="404.php" data-motopress-wrapper-type="content">
				<div class="row error404-holder">
					<div class="span7 error404-holder_num" data-motopress-type="static" data-motopress-static-file="static/static-404.php">
						404					</div>
					<div class="span5" data-motopress-type="static" data-motopress-static-file="static/static-not-found.php">
						<div class="hgroup_404">
	<h1>Sorry!</h1>	<h2>Page Not Found</h2></div>

<h4>The page you are looking for might have been removed, had its name changed, or is temporarily unavailable.</h4><p>Please try using our search box below to look for information on the internet.</p>
<div class="search-form">
	<form id="searchform" method="get" action="https://ai.stanford.edu" accept-charset="utf-8">
		<input type="text" value="" name="s" id="s" class="search-form_it">
		<input type="submit" value="search" id="search-submit" class="search-form_is btn btn-primary">
	</form>
</div>					</div>
				</div>
			</div>
		</div>
	</div>
</div>

		<footer class="motopress-wrapper footer">
			<div class="container">
				<div class="row">
					<div class="span12" data-motopress-wrapper-file="wrapper/wrapper-footer.php" data-motopress-wrapper-type="footer" data-motopress-id="5e27071bd4966">
						
<div class="row copyright">
	<div class="span4">
    	<div class="logo-footer"><img src="https://ai.stanford.edu/wp-content/themes/theme47542/images/logo_stanford_university_footer.png" width="263" height="30" alt="Stanford Artificial Intelligence Laboratory"  /> </div>
		<p>&copy; Stanford University, Stanford, California 94305</p>
	</div>
	<div class="span8" data-motopress-type="static" data-motopress-static-file="static/static-footer-nav.php">
		  
		<nav class="nav footer-nav">
			<ul id="menu-footer-menu" class="menu"><li id="menu-item-2113" class="menu-item menu-item-type-custom menu-item-object-custom menu-item-2113"><a href="http://www.stanford.edu/">SU Home</a></li>
<li id="menu-item-2114" class="menu-item menu-item-type-custom menu-item-object-custom menu-item-2114"><a href="http://engineering.stanford.edu/">SOE Home</a></li>
<li id="menu-item-2115" class="menu-item menu-item-type-custom menu-item-object-custom menu-item-2115"><a href="http://www-cs.stanford.edu/">Stanford CS</a></li>
<li id="menu-item-2116" class="menu-item menu-item-type-custom menu-item-object-custom menu-item-2116"><a href="http://www.stanford.edu/site/terms.html">Terms of Use</a></li>
<li id="menu-item-2117" class="menu-item menu-item-type-custom menu-item-object-custom menu-item-2117"><a href="http://www.stanford.edu/group/security/dmca.html">Copyright Complaints</a></li>
</ul>		</nav>
		</div>
</div>					</div>
				</div>
			</div>
		</footer>
		<!--End #motopress-main-->
	</div>
	<div id="back-top-wrapper" class="visible-desktop">
		<p id="back-top">
			<a href="#top"><span></span></a>		</p>
	</div>
		<script type='text/javascript' src='https://ai.stanford.edu/wp-content/themes/CherryFramework/js/superfish.js?ver=1.5.3'></script>
<script type='text/javascript' src='https://ai.stanford.edu/wp-content/themes/CherryFramework/js/jquery.mobilemenu.js?ver=1.0'></script>
<script type='text/javascript' src='https://ai.stanford.edu/wp-content/themes/CherryFramework/js/jquery.easing.1.3.js?ver=1.3'></script>
<script type='text/javascript' src='https://ai.stanford.edu/wp-content/themes/CherryFramework/js/jquery.magnific-popup.min.js?ver=0.9.3'></script>
<script type='text/javascript' src='https://ai.stanford.edu/wp-content/plugins/cherry-plugin/lib/js/FlexSlider/jquery.flexslider-min.js?ver=2.1'></script>
<script type='text/javascript' src='https://ai.stanford.edu/wp-content/themes/CherryFramework/js/jplayer.playlist.min.js?ver=2.3.0'></script>
<script type='text/javascript' src='https://ai.stanford.edu/wp-content/themes/CherryFramework/js/jquery.jplayer.min.js?ver=2.4.0'></script>
<script type='text/javascript' src='https://ai.stanford.edu/wp-content/themes/CherryFramework/js/camera.min.js?ver=1.3.4'></script>
<script type='text/javascript' src='https://ai.stanford.edu/wp-content/plugins/cherry-plugin/includes/js/cherry-plugin.js?ver=1.0'></script>
<script type='text/javascript' src='https://ai.stanford.edu/wp-includes/js/wp-embed.min.js?ver=5.2.2'></script>
 <!-- this is used by many Wordpress features and for plugins to work properly -->
</body>
</html>